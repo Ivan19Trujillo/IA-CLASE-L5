{
 "cells": [
  {
   "cell_type": "markdown",
   "metadata": {},
   "source": [
    "# Deteccióm de lenguaje usando NLTK\n",
    "\n",
    "# Paul Ivan Trujillo Chavez\n",
    "\n",
    "Phyton es uno de los lenguajes de programas más potentes y populares. Como hemos visto hemos visto hasta el día de hoy se puede utilizar de muchas formas. Entre una de estas formas, se incluye la detección de idiomas. Es aquí en donde entran los algoritmos de PLN.\n",
    "\n",
    "Los algoritmos de PLN tienen que modificarse para diferentes corpus y de acuerdo con la grámatica de diferentes idiomas. De acuerdo con el idioma que se esté utilizando para realizar PLN, es el software o librerías que se debe seleccionar. Por ejemplos, NLTK es la librería de procesamiento de lenguaje natural más utilizada para el idioma ingles en Phyton. Sin embargo, FreeLing es de las mejores alternativas cuando estamos trabajando con español.\n",
    "\n",
    "La eficencia del procesamiento de lenguaje natural depende de varios factores. Un modelo con una calidad superior para el análisis de texto debe incluír lo siguiente:\n",
    "\n",
    "## 1. Extracción del texto:\n",
    "\n",
    "El texto puede extraerse mediante desde una página o datos web, importandolo en un formato particular, tomándolo desde una base de datos u a través de una API.\n",
    "\n",
    "## 2. Identificación del texto:\n",
    "\n",
    "Es el proceso de separación de texto relevante o de interés, del texto que nos añade ruido al análisis\n",
    "\n",
    "## 3. Procesamiento de Lneguaje Natural (PLNN):\n",
    "\n",
    "Es el conjutno de algoritmos que admiten el procesamiento de diferentes idiomas o lenguajes.\n",
    "\n",
    "## Aprendizaje automático\n",
    "\n",
    "Es un paso esencial para lograr objetivos como la colaboración, el análisis de sentimientos y la agrupación.\n",
    "\n",
    "## Combinación de Python y NLTK para la detección del lenguaje.\n",
    "\n",
    "La mayoría de las personas utilizan motores de búsqueda y redes sociales. los cuales se muestran en diferentes lenguajes. Entre ellos español e inglés.\n",
    "\n",
    "Para lograr este proceso, un texto indexado debe examinarse bien, lo que da como resultado el contenidomostrado ´pr estos motores y redes sociales.\n",
    "\n",
    "Existen muchas maneras de lograr este objetivo, la forma más fácil de hacerlo es mediante el enfoque basado en \"stop words\"\n",
    "\n",
    "\"stop words\" se usa en el procesamiento de lenguaje natural para mencionar palabras que se deben filtrar del texto antes de que tenga lugar cualquier tipo de procesamiento.\n",
    "\n",
    "Ahora, tenemos un texto para detectar el idioma. El pasado básico es Tokenizar el texto dado una lista de \"palabras\" y \"tokens\", utilizando un enfoque que depende de los requerimientos.\n",
    "\n",
    "## El siguiente ejemplo de detección de lenguaje utiliza NLTK y Python"
   ]
  },
  {
   "cell_type": "code",
   "execution_count": 1,
   "metadata": {},
   "outputs": [
    {
     "name": "stdout",
     "output_type": "stream",
     "text": [
      "Cadena de texto: Hello my name is Paul Trujillo\t Lenguaje: english\n",
      "\n",
      "Cadena de texto: Hola mi nombre es Paul Trujillo \t Lenguaje: spanish\n",
      "\n",
      "Cadena de texto: Bonjour mon nom est Paul Trujillo\t Lenguaje: french\n",
      "\n",
      "Cadena de texto: Hallo mein Name is Paul Trujillo\t Lenguaje: french\n"
     ]
    }
   ],
   "source": [
    "from nltk import *\n",
    "from nltk.corpus import *\n",
    "\n",
    "def lang_ratio(input):\n",
    "    lang_ratio = {}\n",
    "    tokens = wordpunct_tokenize(input)\n",
    "    words = [word.lower() for word in tokens]\n",
    "    for language in stopwords.fileids():\n",
    "        stopwords_set = set(stopwords.words(language))\n",
    "        words_set = set(words)\n",
    "        common_elements = words_set.intersection(stopwords_set)\n",
    "        lang_ratio[language] = len(common_elements)\n",
    "    return lang_ratio\n",
    "\n",
    "def detect_language(input):\n",
    "    ratios = lang_ratio(input)\n",
    "    language = max(ratios, key=ratios.get)\n",
    "    return language\n",
    "\n",
    "input1 = \"Hello my name is Paul Trujillo\"\n",
    "input2 = \"Hola mi nombre es Paul Trujillo \"\n",
    "input3 = \"Bonjour mon nom est Paul Trujillo\"\n",
    "input4 = \"Hallo mein Name is Paul Trujillo\"\n",
    "\n",
    "language = detect_language(input1)\n",
    "print ('Cadena de texto: ' + input1 + '\\t Lenguaje: ' + language)\n",
    "\n",
    "language = detect_language(input2)\n",
    "print ('\\n'+ 'Cadena de texto: ' + input2 + '\\t Lenguaje: ' + language)\n",
    "\n",
    "language = detect_language(input3)\n",
    "print ('\\n'+ 'Cadena de texto: ' + input3 + '\\t Lenguaje: ' + language)\n",
    "\n",
    "lamguage = detect_language(input4)\n",
    "print ('\\n'+ 'Cadena de texto: ' + input4 + '\\t Lenguaje: ' + language)"
   ]
  },
  {
   "cell_type": "code",
   "execution_count": null,
   "metadata": {},
   "outputs": [],
   "source": []
  }
 ],
 "metadata": {
  "kernelspec": {
   "display_name": "Python 3",
   "language": "python",
   "name": "python3"
  },
  "language_info": {
   "codemirror_mode": {
    "name": "ipython",
    "version": 3
   },
   "file_extension": ".py",
   "mimetype": "text/x-python",
   "name": "python",
   "nbconvert_exporter": "python",
   "pygments_lexer": "ipython3",
   "version": "3.7.6"
  }
 },
 "nbformat": 4,
 "nbformat_minor": 4
}
